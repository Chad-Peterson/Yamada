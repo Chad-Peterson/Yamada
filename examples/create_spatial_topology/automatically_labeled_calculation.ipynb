{
 "cells": [
  {
   "attachments": {},
   "cell_type": "markdown",
   "metadata": {},
   "source": [
    "## How to Calculate the Yamada Polynomial of a Given Spatial Topology\n",
    "\n",
    "Typically, when we see spatial topologies, knots, etc., they take the form of splines. However, this representation proves tricky when we want to analyze them. For instance, it is easy for us to see where crossings are, but how do you quantitatively identify where as crossing is, which edge goes under, which edge goes over, etc.?\n",
    "\n",
    "For simplicity, we represent spatial topologies as a series of nodes and edges, where each node has a 3D position. This design representation adds certain requirements. For instance, when manually labeling the unknot we could define a single Vertex and connect it to itself. However, we need a minimum of three line segments to connect one side of a Vertex to its other side."
   ]
  },
  {
   "cell_type": "markdown",
   "source": [
    "## Import the Necessary Libraries and Set the Random Seed for Consistency"
   ],
   "metadata": {
    "collapsed": false
   }
  },
  {
   "cell_type": "code",
   "execution_count": 4,
   "metadata": {},
   "source": [
    "import numpy as np\n",
    "from yamada import SpatialGraph\n",
    "\n",
    "np.random.seed(0)\n"
   ],
   "outputs": []
  },
  {
   "cell_type": "markdown",
   "source": [
    "## Calculate the Yamada polynomial of the unknot\n",
    "\n",
    "\n",
    "![Infinity Symbol](./images/unknot.png)"
   ],
   "metadata": {
    "collapsed": false
   }
  },
  {
   "cell_type": "code",
   "execution_count": 5,
   "source": [
    "sg = SpatialGraph(nodes=['a', 'b', 'c'],\n",
    "                  node_positions=np.array([[0, 0.5, 0], [-1, 0.5, 1], [1, 0, 0]]),\n",
    "                  edges=[('a', 'b'), ('b', 'c'), ('c', 'a')])\n",
    "\n",
    "sgd = sg.create_spatial_graph_diagram()\n",
    "\n",
    "print(\"Unknot Yamada Polynomial:\", sgd.normalized_yamada_polynomial())\n"
   ],
   "metadata": {
    "collapsed": false
   },
   "outputs": []
  },
  {
   "cell_type": "markdown",
   "source": [
    "## Calculate the Yamada Polynomial of the Infinity Symbol (the unknot with a single twist)\n",
    "\n",
    "![Infinity Symbol](./images/infinity_symbol_version_2.png)"
   ],
   "metadata": {
    "collapsed": false
   }
  },
  {
   "cell_type": "code",
   "execution_count": 6,
   "source": [
    "# Seed 0 produces no crossings\n",
    "# Seed 1 produces 2 crossings\n",
    "np.random.seed(0)\n",
    "\n",
    "sg1 = SpatialGraph(nodes=['a', 'b', 'c', 'd'],\n",
    "                   node_positions=np.array([[0, 0.5, 0], [1, 0.5, 1], [1, 0, 0], [0, 0, 1]]),\n",
    "                   edges=[('a', 'b'), ('b', 'c'), ('c', 'd'), ('d', 'a')])\n",
    "\n",
    "sg1.plot()\n",
    "sgd1 = sg1.create_spatial_graph_diagram()\n",
    "sgd1.yamada_polynomial()\n"
   ],
   "metadata": {
    "collapsed": false
   },
   "outputs": []
  },
  {
   "cell_type": "code",
   "execution_count": 7,
   "source": [
    "sg1 = SpatialGraph(nodes=['a', 'b', 'c', 'd','e','f'],\n",
    "                   node_positions=np.array([[0, 0.5, 0], [1, 0, 1], [2, 0.5, 0], [3, 0, 1],[1,1,0],[-1,0,1]]),\n",
    "                   edges=[('a', 'b'), ('b', 'c'), ('c', 'd'), ('d', 'e'),('e', 'f'), ('f', 'a')])\n",
    "\n",
    "\n",
    "sg1.plot()\n",
    "\n",
    "sgd1 = sg1.create_spatial_graph_diagram()\n",
    "\n",
    "yamada_polynomial_infinity_symbol = sgd1.yamada_polynomial()\n",
    "\n",
    "print(\"Double-Twisted Unknot Yamada Polynomial:\", yamada_polynomial_infinity_symbol)\n",
    "\n"
   ],
   "metadata": {
    "collapsed": false
   },
   "outputs": []
  },
  {
   "cell_type": "markdown",
   "source": [],
   "metadata": {
    "collapsed": false
   }
  },
  {
   "cell_type": "code",
   "execution_count": 7,
   "source": [],
   "metadata": {
    "collapsed": false
   },
   "outputs": []
  },
  {
   "cell_type": "markdown",
   "source": [
    "## An arbitrary spatial topology with two trivalent nodes."
   ],
   "metadata": {
    "collapsed": false
   }
  },
  {
   "cell_type": "code",
   "execution_count": 8,
   "source": [
    "np.random.seed(0)\n",
    "\n",
    "sg1 = SpatialGraph(nodes=['a', 'b', 'c', 'd', 'e', 'f'],\n",
    "                   node_positions=np.array([[0, 0.5, 0], [1, 0, 1], [2, 0.5, 0], [3, 0, 1], [1, 1, 0], [-1, 0, 1]]),\n",
    "                   edges=[('a', 'b'), ('b', 'c'), ('c', 'd'), ('d', 'e'), ('e', 'f'), ('f', 'a'), ('b', 'f')])\n",
    "\n",
    "sg1.plot()\n",
    "sgd1 = sg1.create_spatial_graph_diagram()\n",
    "sgd1.yamada_polynomial()\n"
   ],
   "metadata": {
    "collapsed": false
   },
   "outputs": []
  },
  {
   "cell_type": "code",
   "execution_count": 8,
   "source": [],
   "metadata": {
    "collapsed": false
   },
   "outputs": []
  }
 ],
 "metadata": {
  "language_info": {
   "name": "python"
  },
  "orig_nbformat": 4
 },
 "nbformat": 4,
 "nbformat_minor": 2
}
