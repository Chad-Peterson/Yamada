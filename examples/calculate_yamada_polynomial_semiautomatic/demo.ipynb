{
 "cells": [
  {
   "attachments": {},
   "cell_type": "markdown",
   "metadata": {},
   "source": [
    "How to  Calculate the Yamada Polynomial of a Spatial Topology\n",
    "\n",
    "Ultimately, one of our research goals is to create a program that can take in a spatial diagram and calculate its Yamada polynomial. This workbook notebook partially implements this; future notebooks will see it through to completion.\n",
    "\n",
    "Current workflow: The user chooses a 3D model --> The user manually labels the vertices, edges, and crossings --> The program calculates the Yamada polynomial\n",
    "\n",
    "Future workflow: The user chooses a 3D model --> The program automatically extracts the vertices, edges, and crossings --> The program calculates the Yamada polynomial\n",
    "\n",
    "Notes:\n",
    "1. Code Validation:\n",
    "2. Edge Inflation: While the calculator works by operating on Vertex, Edge, and Crossing classes, it can still calculate Yamada polynomials without the user explicitly defining edges. The _inflate_edges method of the SpatialGraphDiagram class automatically intializes edges where they are implicitly defined by the vertices and crossings.\n",
    "3. Normalizing Yamada Polynomials"
   ]
  },
  {
   "attachments": {},
   "cell_type": "markdown",
   "metadata": {},
   "source": [
    "## Importing the necessary functions"
   ]
  },
  {
   "cell_type": "code",
   "execution_count": 1,
   "metadata": {},
   "outputs": [],
   "source": [
    "from yamada.calculation import (Vertex, Edge, Crossing,\n",
    "    SpatialGraphDiagram, normalize_poly)\n"
   ]
  },
  {
   "attachments": {},
   "cell_type": "markdown",
   "metadata": {},
   "source": [
    "## Calculate the Yamada Polynomial of an Infinity Symbol\n",
    "\n",
    "![Infinity Symbol](./images/infinity_symbol.png)"
   ]
  },
  {
   "cell_type": "code",
   "execution_count": 2,
   "metadata": {},
   "outputs": [
    {
     "name": "stdout",
     "output_type": "stream",
     "text": [
      "Infinity Symbol Yamada Polynomial: A^3 + A^2 + A\n"
     ]
    }
   ],
   "source": [
    "C = Crossing('X')\n",
    "\n",
    "C[0], C[2] = C[1], C[3]\n",
    "\n",
    "D = SpatialGraphDiagram([C])\n",
    "\n",
    "yamada_polynomial_infinity_symbol = D.yamada_polynomial()\n",
    "\n",
    "print(\"Infinity Symbol Yamada Polynomial:\", yamada_polynomial_infinity_symbol)"
   ]
  },
  {
   "attachments": {},
   "cell_type": "markdown",
   "metadata": {},
   "source": [
    "## Calculate the Yamada Polynomial of an Unknotted Theta Graph\n",
    "\n",
    "Vertices: A and B\n",
    "Edges: E0, E1, and E2\n",
    "\n",
    "\n",
    "![Unknotted Theta Graph](./images/unknotted_theta_graph.png)"
   ]
  },
  {
   "cell_type": "code",
   "execution_count": 3,
   "metadata": {},
   "outputs": [
    {
     "name": "stdout",
     "output_type": "stream",
     "text": [
      "Unknotted Theta Graph Yamada Polynomial: (-A^4 - A^3 - 2*A^2 - A - 1)/A^2\n"
     ]
    }
   ],
   "source": [
    "A, B = Vertex(3, 'A'), Vertex(3, 'B')\n",
    "\n",
    "E0, E1, E2 = Edge(0), Edge(1), Edge(2)\n",
    "\n",
    "A[0], A[1], A[2] = E0[0], E1[0], E2[0]\n",
    "\n",
    "B[0], B[1], B[2] = E0[1], E2[1], E1[1]\n",
    "\n",
    "D = SpatialGraphDiagram([A, B, E0, E1, E2])\n",
    "\n",
    "print(\"Unknotted Theta Graph Yamada Polynomial:\", D.yamada_polynomial() )"
   ]
  },
  {
   "attachments": {},
   "cell_type": "markdown",
   "metadata": {},
   "source": [
    "## Calculate the Yamada Polynomial of an Omega-2 Graph\n",
    "\n",
    "![Omega-2 Graph](./images/omega_2_graph.png)"
   ]
  },
  {
   "cell_type": "code",
   "execution_count": 6,
   "metadata": {},
   "outputs": [
    {
     "name": "stdout",
     "output_type": "stream",
     "text": [
      "Omega-2 Graph Yamada Polynomial: (A^13 + A^11 + A^10 - A^9 + A^8 - 2*A^7 + A^6 - A^5 + A^4 + A^3 + A^2 + A + 1)/A^5\n",
      "Omega-2 Graph Yamada Polynomial: -A^13 - A^11 - A^10 + A^9 - A^8 + 2*A^7 - A^6 + A^5 - A^4 - A^3 - A^2 - A - 1\n"
     ]
    }
   ],
   "source": [
    "A, B, C, D = [Vertex(3, L) for L in 'ABCD']\n",
    "X, Y, Z = [Crossing(L) for L in 'XYZ']\n",
    "\n",
    "A[0], A[1], A[2] = D[0], B[2], X[2]\n",
    "B[0], B[1] = C[0], X[3]\n",
    "C[1], C[2] = D[2], Z[0]\n",
    "D[1] = Z[1]\n",
    "X[0], X[1] = Y[3], Y[2]\n",
    "Y[0], Y[1] = Z[3], Z[2]\n",
    "\n",
    "D = SpatialGraphDiagram([A, B, C, D, X, Y, Z])\n",
    "\n",
    "yp_omega_2 = D.yamada_polynomial()\n",
    "# yp_omega_2_norm = n\n",
    "\n",
    "print(\"Omega-2 Graph Yamada Polynomial:\", yp_omega_2 )\n",
    "\n",
    "nyp_omega_2 = D.normalized_yamada_polynomial()\n",
    "# yp_omega_2_norm = n\n",
    "\n",
    "print(\"Omega-2 Graph Yamada Polynomial:\", nyp_omega_2 )"
   ]
  },
  {
   "attachments": {},
   "cell_type": "markdown",
   "metadata": {},
   "source": [
    "## Calculate the Yamada Polynomial of an Arbitrary Trivalent Spatial Topology\n",
    "\n",
    "![Trivalent Spatial Topology](./images/trivalent_spatial_topology.png)\n",
    "\n",
    "Vertices:\n",
    "Crossings:"
   ]
  },
  {
   "cell_type": "code",
   "execution_count": 5,
   "metadata": {},
   "outputs": [
    {
     "name": "stdout",
     "output_type": "stream",
     "text": [
      "Yamada Polynomial: (A^12 - A^11 - 4*A^8 + A^7 - 6*A^6 + A^5 - 4*A^4 - A + 1)/A^6\n"
     ]
    }
   ],
   "source": [
    "A,B,C,D,E,F = [Vertex(3,L) for L in 'ABCDEF']\n",
    "X, Y = [Crossing(L) for L in 'XY']\n",
    "\n",
    "A[0], A[1], A[2] = X[3], B[1], Y[0]\n",
    "B[0], B[2] = C[1], D[1]\n",
    "C[0], C[2] = Y[1], E[0]\n",
    "D[0], D[2] = E[1], X[2]\n",
    "E[2] = F[0]\n",
    "F[1], F[2] = X[1], Y[2]\n",
    "X[0] = Y[3]\n",
    "\n",
    "\n",
    "D = SpatialGraphDiagram([A,B,C,D,E,F,X,Y])\n",
    "\n",
    "yamada_polynomial_trivalent_spatial_topology = D.yamada_polynomial()\n",
    "\n",
    "print('Yamada Polynomial:', yamada_polynomial_trivalent_spatial_topology)"
   ]
  },
  {
   "cell_type": "code",
   "execution_count": null,
   "metadata": {},
   "outputs": [],
   "source": [
    "\n",
    "\n"
   ]
  }
 ],
 "metadata": {
  "kernelspec": {
   "display_name": "venv",
   "language": "python",
   "name": "python3"
  },
  "language_info": {
   "codemirror_mode": {
    "name": "ipython",
    "version": 3
   },
   "file_extension": ".py",
   "mimetype": "text/x-python",
   "name": "python",
   "nbconvert_exporter": "python",
   "pygments_lexer": "ipython3",
   "version": "3.10.9 (tags/v3.10.9:1dd9be6, Dec  6 2022, 20:01:21) [MSC v.1934 64 bit (AMD64)]"
  },
  "orig_nbformat": 4,
  "vscode": {
   "interpreter": {
    "hash": "1db9398ee49eef1bd8a9b288bd45376255f620050e688400ab54b9a87d7d0f89"
   }
  }
 },
 "nbformat": 4,
 "nbformat_minor": 2
}
