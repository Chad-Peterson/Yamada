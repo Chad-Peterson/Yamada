{
 "cells": [
  {
   "attachments": {},
   "cell_type": "markdown",
   "metadata": {},
   "source": [
    "How to  Calculate the Yamada Polynomial of a Spatial Topology\n",
    "\n",
    "Ultimately, one of our research goals is to create a program that can take in a spatial diagram and calculate its Yamada polynomial. This workbook notebook partially implements this; future notebooks will see it through to completion.\n",
    "\n",
    "Current workflow: The user chooses a 3D model --> The user manually labels the vertices, edges, and crossings --> The program calculates the Yamada polynomial\n",
    "\n",
    "Future workflow: The user chooses a 3D model --> The program automatically extracts the vertices, edges, and crossings --> The program calculates the Yamada polynomial\n",
    "\n",
    "Notes:\n",
    "1. Code Validation:\n",
    "2. Edge Inflation: While the calculator works by operating on Vertex, Edge, and Crossing classes, it can still calculate Yamada polynomials without the user explicitly defining edges. The _inflate_edges method of the SpatialGraphDiagram class automatically intializes edges where they are implicitly defined by the vertices and crossings.\n",
    "3. Normalizing Yamada Polynomials"
   ]
  },
  {
   "attachments": {},
   "cell_type": "markdown",
   "metadata": {},
   "source": [
    "## Importing the necessary functions"
   ]
  },
  {
   "cell_type": "code",
   "execution_count": 2,
   "metadata": {},
   "outputs": [],
   "source": [
    "from yamada.calculation import (Vertex, Edge, Crossing,\n",
    "    SpatialGraphDiagram)\n"
   ]
  },
  {
   "attachments": {},
   "cell_type": "markdown",
   "metadata": {},
   "source": [
    "## Calculate the Yamada Polynomial of an Infinity Symbol\n",
    "\n",
    "![Infinity Symbol](./images/semiautomatic/infinity_symbol.png)"
   ]
  },
  {
   "cell_type": "code",
   "execution_count": 3,
   "metadata": {},
   "outputs": [
    {
     "name": "stdout",
     "output_type": "stream",
     "text": [
      "Infinity Symbol Yamada Polynomial: A^3 + A^2 + A\n"
     ]
    }
   ],
   "source": [
    "C = Crossing('X')\n",
    "\n",
    "C[0], C[2] = C[1], C[3]\n",
    "\n",
    "D = SpatialGraphDiagram([C])\n",
    "\n",
    "yamada_polynomial_infinity_symbol = D.yamada_polynomial()\n",
    "\n",
    "print(\"Infinity Symbol Yamada Polynomial:\", yamada_polynomial_infinity_symbol)\n",
    "\n"
   ]
  },
  {
   "cell_type": "markdown",
   "source": [
    "## Calculate the Yamada Polynomial of an Infinity Symbol\n",
    "\n",
    "![Infinity Symbol](./images/semiautomatic/infinity_symbol_version_2.png)"
   ],
   "metadata": {
    "collapsed": false
   }
  },
  {
   "cell_type": "code",
   "execution_count": 7,
   "outputs": [
    {
     "name": "stdout",
     "output_type": "stream",
     "text": [
      "Infinity Symbol Yamada Polynomial: (A^2 + A + 1)/A^3\n"
     ]
    }
   ],
   "source": [
    "\n",
    "# Alternative method of calculating the Yamada Polynomial of an Infinity Symbol\n",
    "a, b, c, d = [Vertex(2, L) for L in 'abcd']\n",
    "x = Crossing('x')\n",
    "\n",
    "a[0] = x[2]\n",
    "b[0] = x[0]\n",
    "b[1] = c[0]\n",
    "c[1] = x[3]\n",
    "d[0] = x[1]\n",
    "d[1] = a[1]\n",
    "\n",
    "D = SpatialGraphDiagram([a,b,c,d,x])\n",
    "\n",
    "yamada_polynomial_infinity_symbol = D.yamada_polynomial()\n",
    "\n",
    "print(\"Infinity Symbol Yamada Polynomial:\", yamada_polynomial_infinity_symbol)\n"
   ],
   "metadata": {
    "collapsed": false
   }
  },
  {
   "attachments": {},
   "cell_type": "markdown",
   "metadata": {},
   "source": [
    "## Calculate the Yamada Polynomial of an Unknotted Theta Graph\n",
    "\n",
    "Vertices: A and B\n",
    "Edges: E0, E1, and E2\n",
    "\n",
    "\n",
    "![Unknotted Theta Graph](./images/semiautomatic/unknotted_theta_graph.png)"
   ]
  },
  {
   "cell_type": "code",
   "execution_count": 6,
   "metadata": {},
   "outputs": [
    {
     "name": "stdout",
     "output_type": "stream",
     "text": [
      "Unknotted Theta Graph Yamada Polynomial: (-A^4 - A^3 - 2*A^2 - A - 1)/A^2\n"
     ]
    }
   ],
   "source": [
    "A, B = Vertex(3, 'A'), Vertex(3, 'B')\n",
    "\n",
    "E0, E1, E2 = Edge(0), Edge(1), Edge(2)\n",
    "\n",
    "A[0], A[1], A[2] = E0[0], E1[0], E2[0]\n",
    "\n",
    "B[0], B[1], B[2] = E0[1], E2[1], E1[1]\n",
    "\n",
    "D = SpatialGraphDiagram([A, B, E0, E1, E2])\n",
    "\n",
    "print(\"Unknotted Theta Graph Yamada Polynomial:\", D.yamada_polynomial() )\n",
    "\n"
   ]
  },
  {
   "cell_type": "markdown",
   "source": [
    "## Calculate the Yamada Polynomial of a G5 Graph\n",
    "\n",
    "Vertices: a,b,c,d\n",
    "Edges: e1, e2, e3, e4, e5, e6, e7\n",
    "\n",
    "\n",
    "![G5 Graph](./images/semiautomatic/G5.png)"
   ],
   "metadata": {
    "collapsed": false
   }
  },
  {
   "cell_type": "code",
   "execution_count": 7,
   "outputs": [
    {
     "ename": "AssertionError",
     "evalue": "",
     "output_type": "error",
     "traceback": [
      "\u001B[1;31m---------------------------------------------------------------------------\u001B[0m",
      "\u001B[1;31mAssertionError\u001B[0m                            Traceback (most recent call last)",
      "Cell \u001B[1;32mIn[7], line 29\u001B[0m\n\u001B[0;32m     26\u001B[0m d[\u001B[38;5;241m2\u001B[39m] \u001B[38;5;241m=\u001B[39m e5[\u001B[38;5;241m1\u001B[39m]\n\u001B[0;32m     27\u001B[0m d[\u001B[38;5;241m3\u001B[39m] \u001B[38;5;241m=\u001B[39m e6[\u001B[38;5;241m0\u001B[39m]\n\u001B[1;32m---> 29\u001B[0m D \u001B[38;5;241m=\u001B[39m \u001B[43mSpatialGraphDiagram\u001B[49m\u001B[43m(\u001B[49m\u001B[43m[\u001B[49m\u001B[43ma\u001B[49m\u001B[43m,\u001B[49m\u001B[43m \u001B[49m\u001B[43mb\u001B[49m\u001B[43m,\u001B[49m\u001B[43m \u001B[49m\u001B[43mc\u001B[49m\u001B[43m,\u001B[49m\u001B[43m \u001B[49m\u001B[43md\u001B[49m\u001B[43m,\u001B[49m\u001B[43m \u001B[49m\u001B[43me1\u001B[49m\u001B[43m,\u001B[49m\u001B[43m \u001B[49m\u001B[43me2\u001B[49m\u001B[43m,\u001B[49m\u001B[43m \u001B[49m\u001B[43me3\u001B[49m\u001B[43m,\u001B[49m\u001B[43m \u001B[49m\u001B[43me4\u001B[49m\u001B[43m,\u001B[49m\u001B[43m \u001B[49m\u001B[43me5\u001B[49m\u001B[43m,\u001B[49m\u001B[43m \u001B[49m\u001B[43me6\u001B[49m\u001B[43m,\u001B[49m\u001B[43m \u001B[49m\u001B[43me7\u001B[49m\u001B[43m]\u001B[49m\u001B[43m)\u001B[49m\n\u001B[0;32m     31\u001B[0m \u001B[38;5;28mprint\u001B[39m(\u001B[38;5;124m\"\u001B[39m\u001B[38;5;124mG5:\u001B[39m\u001B[38;5;124m\"\u001B[39m, D\u001B[38;5;241m.\u001B[39myamada_polynomial() )\n",
      "File \u001B[1;32m~\\PycharmProjects\\Yamada\\src\\yamada\\calculation.py:266\u001B[0m, in \u001B[0;36mSpatialGraphDiagram.__init__\u001B[1;34m(self, data, check)\u001B[0m\n\u001B[0;32m    264\u001B[0m     \u001B[38;5;28mself\u001B[39m\u001B[38;5;241m.\u001B[39m_inflate_edges()\n\u001B[0;32m    265\u001B[0m \u001B[38;5;28;01mif\u001B[39;00m check:\n\u001B[1;32m--> 266\u001B[0m     \u001B[38;5;28;43mself\u001B[39;49m\u001B[38;5;241;43m.\u001B[39;49m\u001B[43m_check\u001B[49m\u001B[43m(\u001B[49m\u001B[43m)\u001B[49m\n",
      "File \u001B[1;32m~\\PycharmProjects\\Yamada\\src\\yamada\\calculation.py:314\u001B[0m, in \u001B[0;36mSpatialGraphDiagram._check\u001B[1;34m(self)\u001B[0m\n\u001B[0;32m    312\u001B[0m \u001B[38;5;28;01mfor\u001B[39;00m E \u001B[38;5;129;01min\u001B[39;00m \u001B[38;5;28mself\u001B[39m\u001B[38;5;241m.\u001B[39medges:\n\u001B[0;32m    313\u001B[0m     \u001B[38;5;28;01massert\u001B[39;00m \u001B[38;5;28mall\u001B[39m(\u001B[38;5;129;01mnot\u001B[39;00m \u001B[38;5;28misinstance\u001B[39m(v, Edge) \u001B[38;5;28;01mfor\u001B[39;00m v, j \u001B[38;5;129;01min\u001B[39;00m E\u001B[38;5;241m.\u001B[39madjacent)\n\u001B[1;32m--> 314\u001B[0m \u001B[38;5;28;01massert\u001B[39;00m \u001B[38;5;28mself\u001B[39m\u001B[38;5;241m.\u001B[39mis_planar()\n",
      "\u001B[1;31mAssertionError\u001B[0m: "
     ]
    }
   ],
   "source": [
    "a = Vertex(3,'a')\n",
    "b = Vertex(3,'b')\n",
    "c = Vertex(4,'c')\n",
    "d = Vertex(4,'d')\n",
    "\n",
    "e1 = Edge(1)\n",
    "e2 = Edge(2)\n",
    "e3 = Edge(3)\n",
    "e4 = Edge(4)\n",
    "e5 = Edge(5)\n",
    "e6 = Edge(6)\n",
    "e7 = Edge(7)\n",
    "\n",
    "a[0] = e3[0]\n",
    "a[1] = e4[0]\n",
    "a[2] = e1[0]\n",
    "b[0] = e2[0]\n",
    "b[1] = e5[0]\n",
    "b[2] = e1[1]\n",
    "c[0] = e3[1]\n",
    "c[1] = e7[1]\n",
    "c[2] = e6[1]\n",
    "c[3] = e2[1]\n",
    "d[0] = e7[0]\n",
    "d[1] = e4[1]\n",
    "d[2] = e5[1]\n",
    "d[3] = e6[0]\n",
    "\n",
    "D = SpatialGraphDiagram([a, b, c, d, e1, e2, e3, e4, e5, e6, e7])\n",
    "\n",
    "print(\"G5:\", D.yamada_polynomial() )\n"
   ],
   "metadata": {
    "collapsed": false
   }
  },
  {
   "attachments": {},
   "cell_type": "markdown",
   "metadata": {},
   "source": [
    "## Calculate the Yamada Polynomial of an Omega-2 Graph\n",
    "\n",
    "![Omega-2 Graph](./images/semiautomatic/omega_2_graph.png)"
   ]
  },
  {
   "cell_type": "code",
   "execution_count": 8,
   "metadata": {},
   "outputs": [
    {
     "name": "stdout",
     "output_type": "stream",
     "text": [
      "Omega-2 Graph Yamada Polynomial: (A^13 + A^11 + A^10 - A^9 + A^8 - 2*A^7 + A^6 - A^5 + A^4 + A^3 + A^2 + A + 1)/A^5\n",
      "Omega-2 Graph Yamada Polynomial: -A^13 - A^11 - A^10 + A^9 - A^8 + 2*A^7 - A^6 + A^5 - A^4 - A^3 - A^2 - A - 1\n"
     ]
    }
   ],
   "source": [
    "A, B, C, D = [Vertex(3, L) for L in 'ABCD']\n",
    "X, Y, Z = [Crossing(L) for L in 'XYZ']\n",
    "\n",
    "A[0], A[1], A[2] = D[0], B[2], X[2]\n",
    "B[0], B[1] = C[0], X[3]\n",
    "C[1], C[2] = D[2], Z[0]\n",
    "D[1] = Z[1]\n",
    "X[0], X[1] = Y[3], Y[2]\n",
    "Y[0], Y[1] = Z[3], Z[2]\n",
    "\n",
    "D = SpatialGraphDiagram([A, B, C, D, X, Y, Z])\n",
    "\n",
    "yp_omega_2 = D.yamada_polynomial()\n",
    "# yp_omega_2_norm = n\n",
    "\n",
    "print(\"Omega-2 Graph Yamada Polynomial:\", yp_omega_2 )\n",
    "\n",
    "nyp_omega_2 = D.normalized_yamada_polynomial()\n",
    "# yp_omega_2_norm = n\n",
    "\n",
    "print(\"Omega-2 Graph Yamada Polynomial:\", nyp_omega_2 )"
   ]
  },
  {
   "attachments": {},
   "cell_type": "markdown",
   "metadata": {},
   "source": [
    "## Calculate the Yamada Polynomial of an Arbitrary Trivalent Spatial Topology\n",
    "\n",
    "![Trivalent Spatial Topology](./images/semiautomatic/trivalent_spatial_topology.png)\n",
    "\n",
    "Vertices:\n",
    "Crossings:"
   ]
  },
  {
   "cell_type": "code",
   "execution_count": 9,
   "metadata": {},
   "outputs": [
    {
     "name": "stdout",
     "output_type": "stream",
     "text": [
      "Yamada Polynomial: (A^12 - A^11 - 4*A^8 + A^7 - 6*A^6 + A^5 - 4*A^4 - A + 1)/A^6\n"
     ]
    }
   ],
   "source": [
    "A,B,C,D,E,F = [Vertex(3,L) for L in 'ABCDEF']\n",
    "X, Y = [Crossing(L) for L in 'XY']\n",
    "\n",
    "A[0], A[1], A[2] = X[3], B[1], Y[0]\n",
    "B[0], B[2] = C[1], D[1]\n",
    "C[0], C[2] = Y[1], E[0]\n",
    "D[0], D[2] = E[1], X[2]\n",
    "E[2] = F[0]\n",
    "F[1], F[2] = X[1], Y[2]\n",
    "X[0] = Y[3]\n",
    "\n",
    "\n",
    "D = SpatialGraphDiagram([A,B,C,D,E,F,X,Y])\n",
    "\n",
    "yamada_polynomial_trivalent_spatial_topology = D.yamada_polynomial()\n",
    "\n",
    "print('Yamada Polynomial:', yamada_polynomial_trivalent_spatial_topology)"
   ]
  },
  {
   "cell_type": "code",
   "execution_count": null,
   "outputs": [],
   "source": [],
   "metadata": {
    "collapsed": false
   }
  }
 ],
 "metadata": {
  "kernelspec": {
   "display_name": "venv",
   "language": "python",
   "name": "python3"
  },
  "language_info": {
   "codemirror_mode": {
    "name": "ipython",
    "version": 3
   },
   "file_extension": ".py",
   "mimetype": "text/x-python",
   "name": "python",
   "nbconvert_exporter": "python",
   "pygments_lexer": "ipython3",
   "version": "3.10.9 (tags/v3.10.9:1dd9be6, Dec  6 2022, 20:01:21) [MSC v.1934 64 bit (AMD64)]"
  },
  "orig_nbformat": 4,
  "vscode": {
   "interpreter": {
    "hash": "1db9398ee49eef1bd8a9b288bd45376255f620050e688400ab54b9a87d7d0f89"
   }
  }
 },
 "nbformat": 4,
 "nbformat_minor": 2
}
