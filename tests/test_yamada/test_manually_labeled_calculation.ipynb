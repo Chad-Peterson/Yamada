{
 "cells": [
  {
   "cell_type": "code",
   "execution_count": 1,
   "metadata": {},
   "outputs": [],
   "source": [
    "from yamada.calculation import (Vertex, Edge, Crossing, SpatialGraphDiagram)\n",
    "\n",
    "\n",
    "def test_myfunc():\n",
    "    pass\n"
   ]
  }
 ],
 "metadata": {
  "kernelspec": {
   "display_name": "venv",
   "language": "python",
   "name": "python3"
  },
  "language_info": {
   "codemirror_mode": {
    "name": "ipython",
    "version": 3
   },
   "file_extension": ".py",
   "mimetype": "text/x-python",
   "name": "python",
   "nbconvert_exporter": "python",
   "pygments_lexer": "ipython3",
   "version": "3.10.9 (tags/v3.10.9:1dd9be6, Dec  6 2022, 20:01:21) [MSC v.1934 64 bit (AMD64)]"
  },
  "orig_nbformat": 4,
  "vscode": {
   "interpreter": {
    "hash": "1db9398ee49eef1bd8a9b288bd45376255f620050e688400ab54b9a87d7d0f89"
   }
  }
 },
 "nbformat": 4,
 "nbformat_minor": 2
}
