{
 "cells": [
  {
   "cell_type": "code",
   "execution_count": 1,
   "metadata": {},
   "outputs": [],
   "source": [
    "import numpy as np\n",
    "from yamada.projection import SpatialGraph\n",
    "from yamada.calculation import normalize_yamada_polynomial\n",
    "from cypari import pari\n",
    "\n",
    "np.random.seed(0)\n"
   ]
  },
  {
   "cell_type": "markdown",
   "source": [
    "## Calculate the Yamada polynomial of the unknot\n",
    "\n",
    "\n",
    "![Infinity Symbol](./images/unknot.png)"
   ],
   "metadata": {
    "collapsed": false
   }
  },
  {
   "cell_type": "code",
   "execution_count": 2,
   "outputs": [],
   "source": [
    "def test_unknot_1():\n",
    "\n",
    "    a = pari('A')\n",
    "\n",
    "    for i in range(6):\n",
    "        np.random.seed(i)\n",
    "\n",
    "        sg1 = SpatialGraph(nodes=['a', 'b', 'c'],\n",
    "                           node_positions=np.array([[0, 0.5, 0], [-1, 0.5, 1], [1, 0, 0]]),\n",
    "                           edges=[('a', 'b'), ('b', 'c'), ('c', 'a')])\n",
    "        sg1.project()\n",
    "        sgd1 = sg1.create_spatial_graph_diagram()\n",
    "\n",
    "        assert sgd1.normalized_yamada_polynomial() == normalize_yamada_polynomial(-a ** 2 - a - 1)\n"
   ],
   "metadata": {
    "collapsed": false
   }
  },
  {
   "cell_type": "markdown",
   "source": [],
   "metadata": {
    "collapsed": false
   }
  },
  {
   "cell_type": "code",
   "execution_count": null,
   "outputs": [],
   "source": [],
   "metadata": {
    "collapsed": false
   }
  },
  {
   "cell_type": "markdown",
   "source": [],
   "metadata": {
    "collapsed": false
   }
  },
  {
   "cell_type": "code",
   "execution_count": null,
   "outputs": [],
   "source": [],
   "metadata": {
    "collapsed": false
   }
  },
  {
   "cell_type": "markdown",
   "source": [],
   "metadata": {
    "collapsed": false
   }
  },
  {
   "cell_type": "code",
   "execution_count": null,
   "outputs": [],
   "source": [],
   "metadata": {
    "collapsed": false
   }
  },
  {
   "cell_type": "markdown",
   "source": [],
   "metadata": {
    "collapsed": false
   }
  },
  {
   "cell_type": "markdown",
   "source": [],
   "metadata": {
    "collapsed": false
   }
  },
  {
   "cell_type": "markdown",
   "source": [],
   "metadata": {
    "collapsed": false
   }
  }
 ],
 "metadata": {
  "language_info": {
   "name": "python"
  },
  "orig_nbformat": 4
 },
 "nbformat": 4,
 "nbformat_minor": 2
}
