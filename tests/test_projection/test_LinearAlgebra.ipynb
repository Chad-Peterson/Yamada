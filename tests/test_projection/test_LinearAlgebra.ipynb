{
 "cells": [
  {
   "cell_type": "markdown",
   "source": [],
   "metadata": {
    "collapsed": false
   }
  },
  {
   "cell_type": "code",
   "execution_count": 5,
   "metadata": {
    "collapsed": true
   },
   "outputs": [],
   "source": [
    "import numpy as np\n",
    "from yamada import LinearAlgebra"
   ]
  },
  {
   "cell_type": "markdown",
   "source": [
    "## Test calculate_counter_clockwise_angle\n",
    "\n",
    "![Unit Circle](./images/unit_circle.png)"
   ],
   "metadata": {
    "collapsed": false
   }
  },
  {
   "cell_type": "code",
   "execution_count": 6,
   "outputs": [],
   "source": [
    "def test_calculate_counter_clockwise_angle():\n",
    "\n",
    "    la = LinearAlgebra()\n",
    "\n",
    "    # Reference vector; zero Radians\n",
    "    reference_vector = np.array([1, 0])\n",
    "\n",
    "    # Test vectors\n",
    "    degree_0   = np.array([1, 0])  # Also degree_360\n",
    "    degree_30  = np.array([np.sqrt(3) / 2, 0.5])\n",
    "    degree_90  = np.array([0, 1])\n",
    "    degree_135 = np.array([-np.sqrt(2)/2, np.sqrt(2)/2])\n",
    "    degree_180 = np.array([-1, 0])\n",
    "    degree_240 = np.array([-0.5, -np.sqrt(3)/2])\n",
    "    degree_270 = np.array([0, -1])\n",
    "    degree_300 = np.array([0.5, -np.sqrt(3)/2])\n",
    "\n",
    "    # Calculate angles\n",
    "    angle_0   = la.calculate_counter_clockwise_angle(reference_vector, degree_0)\n",
    "    angle_30  = la.calculate_counter_clockwise_angle(reference_vector, degree_30)\n",
    "    angle_90  = la.calculate_counter_clockwise_angle(reference_vector, degree_90)\n",
    "    angle_135 = la.calculate_counter_clockwise_angle(reference_vector, degree_135)\n",
    "    angle_180 = la.calculate_counter_clockwise_angle(reference_vector, degree_180)\n",
    "    angle_240 = la.calculate_counter_clockwise_angle(reference_vector, degree_240)\n",
    "    angle_270 = la.calculate_counter_clockwise_angle(reference_vector, degree_270)\n",
    "    angle_300 = la.calculate_counter_clockwise_angle(reference_vector, degree_300)\n",
    "\n",
    "    assert np.isclose(angle_0, 0) or np.isclose(angle_0, 360)\n",
    "    assert np.isclose(angle_30, 30)\n",
    "    assert np.isclose(angle_90, 90)\n",
    "    assert np.isclose(angle_135, 135)\n",
    "    assert np.isclose(angle_180, 180)\n",
    "    assert np.isclose(angle_240, 240)\n",
    "    assert np.isclose(angle_270, 270)\n",
    "    assert np.isclose(angle_300, 300)"
   ],
   "metadata": {
    "collapsed": false
   }
  },
  {
   "cell_type": "markdown",
   "source": [
    "## Test ..."
   ],
   "metadata": {
    "collapsed": false
   }
  }
 ],
 "metadata": {
  "kernelspec": {
   "display_name": "Python 3",
   "language": "python",
   "name": "python3"
  },
  "language_info": {
   "codemirror_mode": {
    "name": "ipython",
    "version": 2
   },
   "file_extension": ".py",
   "mimetype": "text/x-python",
   "name": "python",
   "nbconvert_exporter": "python",
   "pygments_lexer": "ipython2",
   "version": "2.7.6"
  }
 },
 "nbformat": 4,
 "nbformat_minor": 0
}
