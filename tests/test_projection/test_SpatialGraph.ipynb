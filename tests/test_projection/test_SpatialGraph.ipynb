{
 "cells": [
  {
   "cell_type": "markdown",
   "source": [],
   "metadata": {
    "collapsed": false
   }
  },
  {
   "cell_type": "code",
   "execution_count": 6,
   "outputs": [],
   "source": [
    "import numpy as np\n",
    "from yamada.projection import SpatialGraph\n",
    "from yamada.calculation import Vertex, Edge, Crossing, SpatialGraphDiagram, h_poly, reverse_poly, normalize_yamada_polynomial\n",
    "\n",
    "np.random.seed(0)\n"
   ],
   "metadata": {
    "collapsed": false
   }
  },
  {
   "cell_type": "markdown",
   "source": [
    "## Verifying the cylic ordering of nodes for a vertex\n",
    "\n",
    "TODO: Test when a crossing intersects an edge\n",
    "\n",
    "![Abstract Graph G5](./images/abstract_graph_G5.png)"
   ],
   "metadata": {
    "collapsed": false
   }
  },
  {
   "cell_type": "code",
   "execution_count": 7,
   "metadata": {
    "collapsed": true
   },
   "outputs": [],
   "source": [
    "def test_cyclic_node_ordering_vertex():\n",
    "\n",
    "    nodes = ['a', 'b', 'c', 'd', 'e', 'f', 'g', 'h']\n",
    "\n",
    "    node_positions = np.array([[0, 0, 0], [1, 0, 0], [0.5, 1, 0], [0.5, 0.5, 0], [0.25,0.75, 0], [0.75, 0.75, 0], [0, 1, 0], [1, 1, 0]])\n",
    "\n",
    "    edges = [('a', 'b'), ('a', 'g'), ('a', 'd'), ('b', 'd'), ('b', 'h'), ('d', 'e'), ('d', 'f'), ('e', 'c'), ('f', 'c'), ('g', 'c'), ('h', 'c')]\n",
    "\n",
    "    sg = SpatialGraph(nodes=nodes,\n",
    "                      node_positions=node_positions,\n",
    "                      edges=edges)\n",
    "\n",
    "    sg.project()\n",
    "\n",
    "    order = sg.cyclic_node_ordering_vertex('c')\n",
    "    expected_order = {'c': {'e': 3, 'f': 0, 'g': 2, 'h': 1}}\n",
    "\n",
    "    assert order == expected_order\n"
   ]
  },
  {
   "cell_type": "markdown",
   "source": [
    "## Verify the cyclic ordering of nodes for a crossing"
   ],
   "metadata": {
    "collapsed": false
   }
  },
  {
   "cell_type": "code",
   "execution_count": 7,
   "outputs": [],
   "source": [],
   "metadata": {
    "collapsed": false
   }
  },
  {
   "cell_type": "markdown",
   "source": [
    "## Divide edges into sub-edges\n",
    "\n",
    "![Infinity Symbol](./images/infinity_symbol.png)\n",
    "\n"
   ],
   "metadata": {
    "collapsed": false
   }
  },
  {
   "cell_type": "code",
   "execution_count": 8,
   "outputs": [],
   "source": [
    "sg = SpatialGraph(nodes=['a', 'b', 'c', 'd'],\n",
    "                  node_positions=np.array([[0, 0.5, 0], [1, 0.5, 1], [1, 0, 0], [0, 0, 1]]),\n",
    "                  edges=[('a', 'b'), ('b', 'c'), ('c', 'd'), ('d', 'a')])\n",
    "sg.project()\n",
    "\n",
    "sep = sg.get_sub_edges()\n",
    "\n",
    "expected_sub_edges = [('b', '0'), ('0', 'a'), ('b', 'c'), ('d', '0'), ('0', 'c'), ('d', 'a')]\n",
    "['b', '0', 'a']\n",
    "\n",
    "assert sep == expected_sub_edges"
   ],
   "metadata": {
    "collapsed": false
   }
  },
  {
   "cell_type": "code",
   "execution_count": 8,
   "outputs": [],
   "source": [],
   "metadata": {
    "collapsed": false
   }
  }
 ],
 "metadata": {
  "kernelspec": {
   "display_name": "Python 3",
   "language": "python",
   "name": "python3"
  },
  "language_info": {
   "codemirror_mode": {
    "name": "ipython",
    "version": 2
   },
   "file_extension": ".py",
   "mimetype": "text/x-python",
   "name": "python",
   "nbconvert_exporter": "python",
   "pygments_lexer": "ipython2",
   "version": "2.7.6"
  }
 },
 "nbformat": 4,
 "nbformat_minor": 0
}
