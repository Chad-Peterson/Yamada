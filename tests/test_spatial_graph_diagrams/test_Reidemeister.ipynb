{
 "cells": [
  {
   "cell_type": "code",
   "execution_count": null,
   "metadata": {
    "collapsed": true
   },
   "outputs": [],
   "source": [
    "from cypari import pari\n",
    "from yamada import SpatialGraphDiagram, Crossing, Edge\n",
    "\n",
    "\n"
   ]
  },
  {
   "cell_type": "markdown",
   "source": [
    "## Reidemeister 1\n",
    "\n",
    "![R1 Move](./images/r1_1.png)\n"
   ],
   "metadata": {
    "collapsed": false
   }
  },
  {
   "cell_type": "code",
   "execution_count": null,
   "outputs": [],
   "source": [
    "def test_r1_1():\n",
    "    \n",
    "    a = pari('A')\n",
    "\n",
    "    expected = -a**2 - a -1\n",
    "    \n",
    "    x1 = Crossing('X')\n",
    "    x1[1], x1[3] = x1[2], x1[0]\n",
    "    \n",
    "    e0, e1 = Edge(0), Edge(1)\n",
    "    \n",
    "    e0[0], e0[1] = x1[0], x1[3]\n",
    "    e1[0], e1[1] = x1[2], x1[1]\n",
    "    \n",
    "    sgd = SpatialGraphDiagram([x1, e0, e1])\n",
    "    \n",
    "    yp_before = sgd.normalized_yamada_polynomial()\n",
    "    \n",
    "    assert sgd.has_r1()\n",
    "    \n",
    "    sgd.r1()\n",
    "    \n",
    "    yp_after = sgd.normalized_yamada_polynomial()\n",
    "    \n",
    "    assert yp_before == yp_after\n",
    "    \n",
    "    assert yp_after == expected\n",
    "    "
   ],
   "metadata": {
    "collapsed": false
   }
  },
  {
   "cell_type": "markdown",
   "source": [
    "![R1 Move](./images/r1_2.png)"
   ],
   "metadata": {
    "collapsed": false
   }
  },
  {
   "cell_type": "code",
   "execution_count": null,
   "outputs": [],
   "source": [
    "def test_r1_2():\n",
    "    \n",
    "    a = pari('A')\n",
    "\n",
    "    expected = -a**2 - a -1\n",
    "    \n",
    "    x1 = Crossing('X')\n",
    "    x1[1], x1[3] = x1[2], x1[0]\n",
    "    \n",
    "    sgd = SpatialGraphDiagram([x1])\n",
    "    \n",
    "    yp_before = sgd.normalized_yamada_polynomial()\n",
    "    \n",
    "    assert sgd.has_r1()\n",
    "    \n",
    "    sgd.r1()\n",
    "    \n",
    "    yp_after = sgd.normalized_yamada_polynomial()\n",
    "    \n",
    "    assert yp_before == yp_after\n",
    "    \n",
    "    assert yp_after == expected"
   ],
   "metadata": {
    "collapsed": false
   }
  },
  {
   "cell_type": "markdown",
   "source": [
    "## Reidemeister 2\n",
    "\n",
    "![R2 Move](./images/r2_1.png)\n"
   ],
   "metadata": {
    "collapsed": false
   }
  },
  {
   "cell_type": "code",
   "execution_count": null,
   "outputs": [],
   "source": [
    "def test_r2():\n",
    "    \n",
    "    a = pari('A')\n",
    "\n",
    "    expected = -a**2 - a -1\n",
    "\n",
    "    x1 = Crossing('x1')\n",
    "    x2 = Crossing('x2')\n",
    "    \n",
    "    x1[0] = x2[2]\n",
    "    x1[1] = x2[1]\n",
    "    x1[2] = x1[3]\n",
    "    x2[0] = x2[3]\n",
    "    \n",
    "    sgd = SpatialGraphDiagram([x1, x2])\n",
    "    \n",
    "    yp_before = sgd.normalized_yamada_polynomial()\n",
    "    \n",
    "    # Ensure \n",
    "    assert sgd.has_r2()[0]\n",
    "    \n",
    "    sgd.r2()\n",
    "    \n",
    "    yp_after = sgd.normalized_yamada_polynomial()\n",
    "    \n",
    "    assert yp_before == yp_after\n",
    "    \n",
    "    assert yp_after == expected"
   ],
   "metadata": {
    "collapsed": false
   }
  }
 ],
 "metadata": {
  "kernelspec": {
   "display_name": "Python 3",
   "language": "python",
   "name": "python3"
  },
  "language_info": {
   "codemirror_mode": {
    "name": "ipython",
    "version": 2
   },
   "file_extension": ".py",
   "mimetype": "text/x-python",
   "name": "python",
   "nbconvert_exporter": "python",
   "pygments_lexer": "ipython2",
   "version": "2.7.6"
  }
 },
 "nbformat": 4,
 "nbformat_minor": 0
}
