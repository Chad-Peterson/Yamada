{
 "cells": [
  {
   "cell_type": "code",
   "execution_count": null,
   "id": "initial_id",
   "metadata": {
    "collapsed": true
   },
   "outputs": [],
   "source": [
    "# from cypari import pari\n",
    "# from yamada import SpatialGraphDiagram, Crossing, Edge"
   ]
  },
  {
   "cell_type": "markdown",
   "source": [
    "# The Reidemeister 3 Move\n",
    "\n",
    "# Prerequisites:\n",
    "1. The SGD has at least one face whose 3 vertices are crossings.\n",
    "2. The candidate face has at least one edge that pass completely under or over the other two edges.\n",
    "\n",
    "\n",
    "# Algorithm:\n",
    "1. Identify the candidate face for the R3 move.\n",
    "    - If there is more than one face that satisfies the R3 prerequisites, then choose one (TODO Implement choosing logic).\n",
    "\n",
    "2. Identify the candidate edge for the R3 move.\n",
    "    - If the chosen face as more than one edge that passes completely under or over the other two edges, choose one (TODO Implement choosing logic).\n",
    "\n",
    "3. Label each vertex and edge of the candidate face.\n",
    "    - The R3 moves one edge across its opposing vertex. \n",
    "    - The chosen edge will be called the \"moving\" or \"opposite\" edge since it will move across the opposing vertex.\n",
    "    - The vertex opposing the moving edge will be called the \"keep\" crossing since it will remain in place.\n",
    "    - The two edges adjacent to the keep crossing will be called \"common\" edges (as opposed to the opposing edge).\n",
    "    - The two other crossings will be called \"remove\" crossings since moving the opposite edge will remove these crossings (and introduce two new crossings on the other side of the keep crossing).\n",
    "\n",
    "4. Identify how edge and crossing indices will change by the R3 move.\n",
    "    - The moving edge intersects with two keep crossing edges. The R3 move will cause it to intersect the opposite two edges (i... ).\n",
    "    - When we remove the two remove crossings, two edges represent the moving edge and will be moved by the R3 move. The other two edges must spliced together.\n",
    "    - ...\n",
    "\n",
    "5. Perform the R3 move.\n",
    "    - Delete the two edges that do not move.\n",
    "    - Connect ...\n",
    "    - Shift the two move crossings\n",
    "    - Add new edges...\n",
    "    - \n",
    "\n",
    "\n"
   ],
   "metadata": {
    "collapsed": false
   },
   "id": "b5b5f4a598165dc0"
  },
  {
   "cell_type": "code",
   "outputs": [],
   "source": [],
   "metadata": {
    "collapsed": false
   },
   "id": "9cb87bb72a988bcb"
  }
 ],
 "metadata": {
  "kernelspec": {
   "display_name": "Python 3",
   "language": "python",
   "name": "python3"
  },
  "language_info": {
   "codemirror_mode": {
    "name": "ipython",
    "version": 2
   },
   "file_extension": ".py",
   "mimetype": "text/x-python",
   "name": "python",
   "nbconvert_exporter": "python",
   "pygments_lexer": "ipython2",
   "version": "2.7.6"
  }
 },
 "nbformat": 4,
 "nbformat_minor": 5
}
