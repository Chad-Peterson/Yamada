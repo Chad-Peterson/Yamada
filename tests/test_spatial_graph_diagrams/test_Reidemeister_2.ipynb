{
 "cells": [
  {
   "cell_type": "code",
   "execution_count": 5,
   "metadata": {
    "collapsed": true,
    "ExecuteTime": {
     "end_time": "2024-02-29T14:52:47.221798200Z",
     "start_time": "2024-02-29T14:52:47.201779500Z"
    }
   },
   "outputs": [],
   "source": [
    "from cypari import pari\n",
    "from yamada import SpatialGraphDiagram, Crossing, Edge, has_r2, r2\n"
   ]
  },
  {
   "cell_type": "markdown",
   "source": [
    "## Reidemeister 2\n",
    "\n",
    "Infinity symbol\n",
    "\n",
    "The point of this isn't to rest R2, it's a test to verify remove crossing and fuse edges\n",
    "\n",
    "![R2 Move](./images/r2_infinity.png)"
   ],
   "metadata": {
    "collapsed": false
   }
  },
  {
   "cell_type": "code",
   "outputs": [],
   "source": [
    "def test_r2_infinity():\n",
    "    \n",
    "    a = pari('A')\n",
    "\n",
    "    expected = -a**2 - a -1\n",
    "\n",
    "    e0 = Edge('e0')\n",
    "    e1 = Edge('e1')\n",
    "    x0 = Crossing('x0')\n",
    "\n",
    "    e0[0] = x0[0]\n",
    "    e0[1] = x0[3]\n",
    "    e1[0] = x0[1]\n",
    "    e1[1] = x0[2]\n",
    "\n",
    "    sgd = SpatialGraphDiagram([e0, e1, x0])\n",
    "\n",
    "    yp_before = sgd.normalized_yamada_polynomial()\n",
    "\n",
    "    # Ensure \n",
    "    assert has_r2(sgd)[0]\n",
    "\n",
    "    sgd = r2(sgd)\n",
    "\n",
    "    yp_after = sgd.normalized_yamada_polynomial()\n",
    "\n",
    "    assert yp_before == yp_after\n",
    "\n",
    "    assert yp_after == expected"
   ],
   "metadata": {
    "collapsed": false,
    "ExecuteTime": {
     "end_time": "2024-02-29T14:52:47.235315200Z",
     "start_time": "2024-02-29T14:52:47.219801600Z"
    }
   },
   "execution_count": 6
  },
  {
   "cell_type": "markdown",
   "source": [
    "## Reidemeister 2\n",
    "\n",
    "![R2 Move](./images/r2_1.png)\n"
   ],
   "metadata": {
    "collapsed": false
   }
  },
  {
   "cell_type": "code",
   "execution_count": 7,
   "outputs": [],
   "source": [
    "def test_r2():\n",
    "    \n",
    "    a = pari('A')\n",
    "\n",
    "    expected = -a**2 - a -1\n",
    "\n",
    "    x1 = Crossing('x1')\n",
    "    x2 = Crossing('x2')\n",
    "\n",
    "    x1[0] = x2[2]\n",
    "    x1[1] = x2[1]\n",
    "    x1[2] = x1[3]\n",
    "    x2[0] = x2[3]\n",
    "\n",
    "    sgd = SpatialGraphDiagram([x1, x2])\n",
    "\n",
    "    yp_before = sgd.normalized_yamada_polynomial()\n",
    "\n",
    "    # Ensure \n",
    "    assert has_r2(sgd)[0]\n",
    "\n",
    "    sgd = r2(sgd)\n",
    "\n",
    "    yp_after = sgd.normalized_yamada_polynomial()\n",
    "\n",
    "    assert yp_before == yp_after\n",
    "\n",
    "    assert yp_after == expected"
   ],
   "metadata": {
    "collapsed": false,
    "ExecuteTime": {
     "end_time": "2024-02-29T14:52:47.251845500Z",
     "start_time": "2024-02-29T14:52:47.235315200Z"
    }
   }
  }
 ],
 "metadata": {
  "kernelspec": {
   "display_name": "Python 3",
   "language": "python",
   "name": "python3"
  },
  "language_info": {
   "codemirror_mode": {
    "name": "ipython",
    "version": 2
   },
   "file_extension": ".py",
   "mimetype": "text/x-python",
   "name": "python",
   "nbconvert_exporter": "python",
   "pygments_lexer": "ipython2",
   "version": "2.7.6"
  }
 },
 "nbformat": 4,
 "nbformat_minor": 0
}
