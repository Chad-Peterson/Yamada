{
 "cells": [
  {
   "cell_type": "code",
   "execution_count": 1,
   "metadata": {
    "collapsed": true,
    "ExecuteTime": {
     "end_time": "2024-02-28T22:19:58.960308300Z",
     "start_time": "2024-02-28T22:19:58.065826100Z"
    }
   },
   "outputs": [],
   "source": [
    "from cypari import pari\n",
    "from yamada import SpatialGraphDiagram, Crossing, Edge, has_r2, r2\n"
   ]
  },
  {
   "cell_type": "markdown",
   "source": [
    "## Reidemeister 2\n",
    "\n",
    "![R2 Move](./images/r2_1.png)\n"
   ],
   "metadata": {
    "collapsed": false
   }
  },
  {
   "cell_type": "code",
   "execution_count": 2,
   "outputs": [],
   "source": [
    "def test_r2():\n",
    "    \n",
    "    a = pari('A')\n",
    "\n",
    "    expected = -a**2 - a -1\n",
    "\n",
    "    x1 = Crossing('x1')\n",
    "    x2 = Crossing('x2')\n",
    "\n",
    "    x1[0] = x2[2]\n",
    "    x1[1] = x2[1]\n",
    "    x1[2] = x1[3]\n",
    "    x2[0] = x2[3]\n",
    "\n",
    "    sgd = SpatialGraphDiagram([x1, x2])\n",
    "\n",
    "    yp_before = sgd.normalized_yamada_polynomial()\n",
    "\n",
    "    # Ensure \n",
    "    assert has_r2(sgd)[0]\n",
    "\n",
    "    sgd = r2(sgd)\n",
    "\n",
    "    yp_after = sgd.normalized_yamada_polynomial()\n",
    "\n",
    "    assert yp_before == yp_after\n",
    "\n",
    "    assert yp_after == expected"
   ],
   "metadata": {
    "collapsed": false,
    "ExecuteTime": {
     "end_time": "2024-02-28T22:19:58.975984500Z",
     "start_time": "2024-02-28T22:19:58.964310200Z"
    }
   }
  }
 ],
 "metadata": {
  "kernelspec": {
   "display_name": "Python 3",
   "language": "python",
   "name": "python3"
  },
  "language_info": {
   "codemirror_mode": {
    "name": "ipython",
    "version": 2
   },
   "file_extension": ".py",
   "mimetype": "text/x-python",
   "name": "python",
   "nbconvert_exporter": "python",
   "pygments_lexer": "ipython2",
   "version": "2.7.6"
  }
 },
 "nbformat": 4,
 "nbformat_minor": 0
}
