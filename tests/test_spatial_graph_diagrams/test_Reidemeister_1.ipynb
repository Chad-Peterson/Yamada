{
 "cells": [
  {
   "cell_type": "code",
   "execution_count": 1,
   "id": "initial_id",
   "metadata": {
    "collapsed": true,
    "ExecuteTime": {
     "end_time": "2024-02-28T18:16:49.123608700Z",
     "start_time": "2024-02-28T18:16:48.131775900Z"
    }
   },
   "outputs": [],
   "source": [
    "from cypari import pari\n",
    "from yamada import SpatialGraphDiagram, Crossing, Edge"
   ]
  },
  {
   "cell_type": "markdown",
   "source": [
    "## Reidemeister 1\n",
    "\n",
    "![R1 Move](./images/r1_1.png)"
   ],
   "metadata": {
    "collapsed": false
   },
   "id": "ecc56414fcd8284"
  },
  {
   "cell_type": "code",
   "outputs": [],
   "source": [
    "def test_r1_1():\n",
    "    \n",
    "    a = pari('A')\n",
    "\n",
    "    # expected = -a**2 - a -1\n",
    "    # \n",
    "    # x1 = Crossing('X')\n",
    "    # x1[1], x1[3] = x1[2], x1[0]\n",
    "    # \n",
    "    # e0, e1 = Edge(0), Edge(1)\n",
    "    # \n",
    "    # e0[0], e0[1] = x1[0], x1[3]\n",
    "    # e1[0], e1[1] = x1[2], x1[1]\n",
    "    # \n",
    "    # sgd = SpatialGraphDiagram([x1, e0, e1])\n",
    "    # \n",
    "    # yp_before = sgd.normalized_yamada_polynomial()\n",
    "    # \n",
    "    # assert sgd.has_r1()\n",
    "    # \n",
    "    # sgd.r1()\n",
    "    # \n",
    "    # yp_after = sgd.normalized_yamada_polynomial()\n",
    "    # \n",
    "    # assert yp_before == yp_after\n",
    "    # \n",
    "    # assert yp_after == expected"
   ],
   "metadata": {
    "collapsed": false,
    "ExecuteTime": {
     "end_time": "2024-02-28T18:16:49.136326200Z",
     "start_time": "2024-02-28T18:16:49.121608700Z"
    }
   },
   "id": "2efbc1ad3b6697f8",
   "execution_count": 2
  },
  {
   "cell_type": "markdown",
   "source": [
    "![R1 Move](./images/r1_2.png)"
   ],
   "metadata": {
    "collapsed": false
   },
   "id": "7d3c151c1c1a4431"
  },
  {
   "cell_type": "code",
   "outputs": [],
   "source": [
    "def test_r1_2():\n",
    "    \n",
    "    a = pari('A')\n",
    "\n",
    "    # expected = -a**2 - a -1\n",
    "    # \n",
    "    # x1 = Crossing('X')\n",
    "    # x1[1], x1[3] = x1[2], x1[0]\n",
    "    # \n",
    "    # sgd = SpatialGraphDiagram([x1])\n",
    "    # \n",
    "    # yp_before = sgd.normalized_yamada_polynomial()\n",
    "    # \n",
    "    # assert sgd.has_r1()\n",
    "    # \n",
    "    # sgd.r1()\n",
    "    # \n",
    "    # yp_after = sgd.normalized_yamada_polynomial()\n",
    "    # \n",
    "    # assert yp_before == yp_after\n",
    "    # \n",
    "    # assert yp_after == expected"
   ],
   "metadata": {
    "collapsed": false,
    "ExecuteTime": {
     "end_time": "2024-02-28T18:16:49.153072200Z",
     "start_time": "2024-02-28T18:16:49.136326200Z"
    }
   },
   "id": "e7e05460ad64cee4",
   "execution_count": 3
  }
 ],
 "metadata": {
  "kernelspec": {
   "display_name": "Python 3",
   "language": "python",
   "name": "python3"
  },
  "language_info": {
   "codemirror_mode": {
    "name": "ipython",
    "version": 2
   },
   "file_extension": ".py",
   "mimetype": "text/x-python",
   "name": "python",
   "nbconvert_exporter": "python",
   "pygments_lexer": "ipython2",
   "version": "2.7.6"
  }
 },
 "nbformat": 4,
 "nbformat_minor": 5
}
